{
 "cells": [
  {
   "cell_type": "code",
   "execution_count": 6,
   "metadata": {},
   "outputs": [
    {
     "name": "stdout",
     "output_type": "stream",
     "text": [
      "Augmented dataset saved as augmented_water_data.csv with 6500 entries.\n"
     ]
    }
   ],
   "source": [
    "import pandas as pd\n",
    "import numpy as np\n",
    "\n",
    "# Function to classify aquaculture water quality\n",
    "def classify_aquaculture_health(row):\n",
    "    ph, turbidity, tds = row['ph'], row['Turbidity'], row['Solids']\n",
    "    \n",
    "    # Check pH range\n",
    "    if ph < 4.5 or ph > 9.5:\n",
    "        return 0  # Unhealthy\n",
    "\n",
    "    # Check Turbidity range (optimal: 10 to 50 NTU)\n",
    "    if turbidity < 10 or turbidity > 50:\n",
    "        return 0  # Unhealthy\n",
    "\n",
    "    # Check TDS (Solids) range for Freshwater, Brackish, and Marine\n",
    "    if 50 <= tds <= 500:   # Freshwater fish\n",
    "        return 1  # Healthy\n",
    "    elif 500 < tds <= 5000:  # Brackish water species\n",
    "        return 1  # Healthy\n",
    "    elif tds > 5000:  # Marine fish\n",
    "        return 1  # Healthy\n",
    "\n",
    "    return 0  # Default to Unhealthy\n",
    "\n",
    "# Load dataset\n",
    "input_file = \"water_potability.csv\"  # Change to your actual CSV filename\n",
    "df = pd.read_csv(input_file)\n",
    "\n",
    "# Select only relevant columns\n",
    "df = df[['ph', 'Turbidity', 'Solids']].copy()\n",
    "\n",
    "# Apply classification function\n",
    "df['Labeled Data'] = df.apply(classify_aquaculture_health, axis=1)\n",
    "\n",
    "# Generate synthetic healthy samples based on conditions\n",
    "num_samples_needed = 6500 - len(df)\n",
    "\n",
    "synthetic_data = pd.DataFrame({\n",
    "    'ph': np.random.uniform(6.5, 8.5, num_samples_needed),  # Optimal pH range\n",
    "    'Turbidity': np.random.uniform(10, 50, num_samples_needed),  # Optimal Turbidity range\n",
    "    'Solids': np.random.uniform(50, 5000, num_samples_needed),  # Covering Freshwater & Brackish Water ranges\n",
    "    'Labeled Data': 1  # Mark as Healthy\n",
    "})\n",
    "\n",
    "# Combine original and synthetic data\n",
    "augmented_df = pd.concat([df, synthetic_data], ignore_index=True)\n",
    "\n",
    "# Shuffle the dataset randomly\n",
    "augmented_df = augmented_df.sample(frac=1, random_state=42).reset_index(drop=True)\n",
    "\n",
    "# Save the new dataset with labels\n",
    "output_file = \"augmented_water_data.csv\"\n",
    "augmented_df.to_csv(output_file, index=False)\n",
    "\n",
    "print(f\"Augmented dataset saved as {output_file} with {len(augmented_df)} entries.\")\n"
   ]
  }
 ],
 "metadata": {
  "kernelspec": {
   "display_name": "Python 3",
   "language": "python",
   "name": "python3"
  },
  "language_info": {
   "codemirror_mode": {
    "name": "ipython",
    "version": 3
   },
   "file_extension": ".py",
   "mimetype": "text/x-python",
   "name": "python",
   "nbconvert_exporter": "python",
   "pygments_lexer": "ipython3",
   "version": "3.11.6"
  }
 },
 "nbformat": 4,
 "nbformat_minor": 2
}
